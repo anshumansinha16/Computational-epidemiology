{
  "nbformat": 4,
  "nbformat_minor": 0,
  "metadata": {
    "colab": {
      "provenance": []
    },
    "kernelspec": {
      "name": "python3",
      "display_name": "Python 3"
    },
    "language_info": {
      "name": "python"
    }
  },
  "cells": [
    {
      "cell_type": "markdown",
      "source": [
        "**Import working libraries**"
      ],
      "metadata": {
        "id": "x8Qe7iJXm-GF"
      }
    },
    {
      "cell_type": "code",
      "execution_count": 45,
      "metadata": {
        "id": "sE4i6CCU8AD8"
      },
      "outputs": [],
      "source": [
        "import pandas as pd \n",
        "import numpy as np \n",
        "import matplotlib.pyplot as plt "
      ]
    },
    {
      "cell_type": "code",
      "source": [
        "from statsmodels.tsa.arima.model import ARIMA"
      ],
      "metadata": {
        "id": "lv6-5Dnz8GfK"
      },
      "execution_count": 46,
      "outputs": []
    },
    {
      "cell_type": "markdown",
      "source": [
        "**Import data**"
      ],
      "metadata": {
        "id": "tK0q8sWlnEbQ"
      }
    },
    {
      "cell_type": "code",
      "source": [
        "df = pd.read_csv('/content/covid-data-us-national.txt')"
      ],
      "metadata": {
        "id": "_OlYABPH8H6O"
      },
      "execution_count": 47,
      "outputs": []
    },
    {
      "cell_type": "markdown",
      "source": [
        "**Make test set (as September's data)**"
      ],
      "metadata": {
        "id": "JI9C1PLknIs9"
      }
    },
    {
      "cell_type": "code",
      "source": [
        "# Make test set (as September's data)\n",
        "\n",
        "yf4 = df.iloc[35:39,[5]] \n",
        "arr2 = yf4['death_jhu_incidence'].to_numpy()\n",
        "test = arr2.tolist()"
      ],
      "metadata": {
        "id": "fAbhsOcS-VAs"
      },
      "execution_count": 49,
      "outputs": []
    },
    {
      "cell_type": "code",
      "source": [
        "# check test\n",
        "test"
      ],
      "metadata": {
        "colab": {
          "base_uri": "https://localhost:8080/"
        },
        "id": "13onLWqXtSLD",
        "outputId": "f765cb21-b083-41a6-f1dd-dc9ae77c46fd"
      },
      "execution_count": 50,
      "outputs": [
        {
          "output_type": "execute_result",
          "data": {
            "text/plain": [
              "[5838, 5141, 5589, 5208]"
            ]
          },
          "metadata": {},
          "execution_count": 50
        }
      ]
    },
    {
      "cell_type": "markdown",
      "source": [
        "**Make train set (as March-Aug data)**"
      ],
      "metadata": {
        "id": "fEUDzXCYnO1q"
      }
    },
    {
      "cell_type": "code",
      "source": [
        "yf3 = df.iloc[9:35,[5]] \n",
        "arr = yf3['death_jhu_incidence'].to_numpy()\n",
        "history = arr.tolist()"
      ],
      "metadata": {
        "id": "nlTlW9HMJsN1"
      },
      "execution_count": 54,
      "outputs": []
    },
    {
      "cell_type": "code",
      "source": [
        "# check train\n",
        "history # death_jhu_incidence 9 to 35"
      ],
      "metadata": {
        "id": "O30timFdJtFO"
      },
      "execution_count": null,
      "outputs": []
    },
    {
      "cell_type": "code",
      "source": [
        "y_solution =[]\n",
        "\n",
        "for t in range(4):\n",
        "  model2 = ARIMA(history, order=(2,0,2))\n",
        "  model_fit = model2.fit()\n",
        "  output = model_fit.forecast()\n",
        "  y_sol = output[0]\n",
        "\n",
        "  history.append(y_sol)\n",
        "\n",
        "  y_solution.append(y_sol)"
      ],
      "metadata": {
        "id": "QEqNbAJv8_Ri"
      },
      "execution_count": null,
      "outputs": []
    },
    {
      "cell_type": "code",
      "source": [
        "y_solution"
      ],
      "metadata": {
        "colab": {
          "base_uri": "https://localhost:8080/"
        },
        "id": "wl0DAkmPo9JN",
        "outputId": "f86844a7-a388-4dd6-e903-334549af2247"
      },
      "execution_count": 59,
      "outputs": [
        {
          "output_type": "execute_result",
          "data": {
            "text/plain": [
              "[6582.667627418847, 6954.795852541844, 7549.9310330140015, 8047.124472795227]"
            ]
          },
          "metadata": {},
          "execution_count": 59
        }
      ]
    },
    {
      "cell_type": "markdown",
      "source": [
        "**RMSE1_(Test_data)**"
      ],
      "metadata": {
        "id": "VzIul1_WBbsE"
      }
    },
    {
      "cell_type": "code",
      "source": [
        "pred = np.array(y_solution)\n",
        "test = np.array(test)\n",
        "np.sqrt(np.mean((pred-test)**2))"
      ],
      "metadata": {
        "colab": {
          "base_uri": "https://localhost:8080/"
        },
        "id": "cL6r0qAI_Jkl",
        "outputId": "4b5990b9-d5c9-40a7-973f-e6d8d4c47c5f"
      },
      "execution_count": 60,
      "outputs": [
        {
          "output_type": "execute_result",
          "data": {
            "text/plain": [
              "1984.330085840417"
            ]
          },
          "metadata": {},
          "execution_count": 60
        }
      ]
    },
    {
      "cell_type": "markdown",
      "source": [
        "**RMSE1 test = 1984.330085840417**"
      ],
      "metadata": {
        "id": "mcIQ8yes1GDe"
      }
    },
    {
      "cell_type": "code",
      "source": [
        "# Now predict back on training data to get first w1 for Q3.3\n",
        "\n",
        "forecast = model_fit.predict(start=0, end=30)\n",
        "\n",
        "forecast1 = np.array(forecast)[0:26]\n",
        "history1 = np.array(history)[0:26]\n",
        "np.sqrt(np.mean((forecast1-history1)**2))"
      ],
      "metadata": {
        "colab": {
          "base_uri": "https://localhost:8080/"
        },
        "id": "LyLRfFpzegPZ",
        "outputId": "86d28852-0fd9-4f70-eee2-dbac2c23b42b"
      },
      "execution_count": 62,
      "outputs": [
        {
          "output_type": "execute_result",
          "data": {
            "text/plain": [
              "1859.8348587481062"
            ]
          },
          "metadata": {},
          "execution_count": 62
        }
      ]
    },
    {
      "cell_type": "markdown",
      "source": [
        "**RMSE1 = 1859.8348587481062 (on training data)**"
      ],
      "metadata": {
        "id": "YxTUUsA_sure"
      }
    },
    {
      "cell_type": "code",
      "source": [
        "# plot\n",
        "plt.plot(test, label = 'original deaths', marker = '*')\n",
        "plt.plot(y_solution, color='red', label = 'predicted deaths', marker = '*')\n",
        "plt.title('Performance Evaluation')\n",
        "plt.xlabel('Future Steps')\n",
        "plt.ylabel('Mortality')\n",
        "plt.legend()\n",
        "plt.show()"
      ],
      "metadata": {
        "colab": {
          "base_uri": "https://localhost:8080/",
          "height": 295
        },
        "id": "gbdQltPF-D7P",
        "outputId": "29e9c393-60c6-4df0-fe4d-75bccf5d2134"
      },
      "execution_count": 63,
      "outputs": [
        {
          "output_type": "display_data",
          "data": {
            "text/plain": [
              "<Figure size 432x288 with 1 Axes>"
            ],
            "image/png": "[encoded data removed]"
          },
          "metadata": {
            "needs_background": "light"
          }
        }
      ]
    },
    {
      "cell_type": "markdown",
      "source": [
        "**Q 3.2**"
      ],
      "metadata": {
        "id": "Sufqfi2SCMcZ"
      }
    },
    {
      "cell_type": "code",
      "source": [
        "import statsmodels.api as sm\n",
        "from statsmodels.regression.rolling import RollingOLS"
      ],
      "metadata": {
        "id": "iJzabVgnCN-Z"
      },
      "execution_count": 64,
      "outputs": []
    },
    {
      "cell_type": "code",
      "source": [
        "pred_results = [] # store results\n",
        "\n",
        "Y = df.iloc[9:(35),[5]] # Y-Train set Mar-Aug\n",
        "\n",
        "for t in range(4): \n",
        "\n",
        "  X = df.iloc[9:(35+t),[3,4,6]] # X-Train set Mar-Aug\n",
        "  X = sm.add_constant(X)\n",
        "  model = sm.OLS(Y, X)\n",
        "  results = model.fit()\n",
        "\n",
        "  pred_x = df.iloc[(35+t):(36+t),[3,4,6]] \n",
        "  pred_x = sm.add_constant(pred_x)\n",
        "  pred_x.insert(0, \"const\", [1], True)\n",
        "\n",
        "  ypred = results.predict(pred_x)\n",
        "\n",
        "  Y.loc[35+t] = [ypred.iloc[0]] # append the training set\n",
        "\n",
        "  pred_results.append(ypred.iloc[0])  \n"
      ],
      "metadata": {
        "id": "kvLzrGo1Csy6"
      },
      "execution_count": null,
      "outputs": []
    },
    {
      "cell_type": "code",
      "source": [
        "pred = np.array(pred_results)\n",
        "test = np.array(test)\n",
        "np.sqrt(np.mean((pred-test)**2))"
      ],
      "metadata": {
        "colab": {
          "base_uri": "https://localhost:8080/"
        },
        "id": "Ai3PuDd9McIV",
        "outputId": "5bc68f7f-99a0-4905-e14d-2b4f0b0fa5e9"
      },
      "execution_count": 66,
      "outputs": [
        {
          "output_type": "execute_result",
          "data": {
            "text/plain": [
              "1992.0691496084992"
            ]
          },
          "metadata": {},
          "execution_count": 66
        }
      ]
    },
    {
      "cell_type": "markdown",
      "source": [
        "**RMSE2 = 1992.0691496084992 (test)**"
      ],
      "metadata": {
        "id": "GmhLDjBWzgtC"
      }
    },
    {
      "cell_type": "code",
      "source": [
        "# Now predict back on training data to get first w2 for Q3.3\n",
        "\n",
        "X = df.iloc[9:35,[3,4,6]]\n",
        "X = sm.add_constant(X)\n",
        "forecast = results.predict(X)\n",
        "\n",
        "err = 0\n",
        "\n",
        "for j in range(9,35):\n",
        "  err += (forecast[j]- Y['death_jhu_incidence'][j])**2\n",
        "\n",
        "err/(35-9)\n",
        "\n",
        "np.sqrt(err/(35-9))"
      ],
      "metadata": {
        "colab": {
          "base_uri": "https://localhost:8080/"
        },
        "id": "Xj6M-Pz-fAna",
        "outputId": "f92cb2c7-81de-4bb2-85d3-1fe287991f86"
      },
      "execution_count": 67,
      "outputs": [
        {
          "output_type": "execute_result",
          "data": {
            "text/plain": [
              "2864.671904742172"
            ]
          },
          "metadata": {},
          "execution_count": 67
        }
      ]
    },
    {
      "cell_type": "markdown",
      "source": [
        "**RMSE2_training data = 2864.671904742172**"
      ],
      "metadata": {
        "id": "b_ADc3sxzIpJ"
      }
    },
    {
      "cell_type": "code",
      "source": [
        "# plot\n",
        "plt.plot(test, label = 'original deaths', marker = '*')\n",
        "plt.plot(pred_results, color='red', label = 'predicted deaths', marker = '*')\n",
        "plt.title('Performance Evaluation')\n",
        "plt.xlabel('Future Steps')\n",
        "plt.ylabel('Mortality')\n",
        "plt.legend()\n",
        "plt.show()"
      ],
      "metadata": {
        "colab": {
          "base_uri": "https://localhost:8080/",
          "height": 295
        },
        "id": "8iUThfX7MpxV",
        "outputId": "e3738c24-9975-4674-b15e-f2b08acf87b5"
      },
      "execution_count": null,
      "outputs": [
        {
          "output_type": "display_data",
          "data": {
            "text/plain": [
              "<Figure size 432x288 with 1 Axes>"
            ],
            "image/png": "[encoded data removed]"
          },
          "metadata": {
            "needs_background": "light"
          }
        }
      ]
    },
    {
      "cell_type": "code",
      "source": [
        "pred_results"
      ],
      "metadata": {
        "colab": {
          "base_uri": "https://localhost:8080/"
        },
        "id": "x6zdBU5dMIbO",
        "outputId": "007eb58c-f171-4e2c-be1a-48bb017b90bc"
      },
      "execution_count": null,
      "outputs": [
        {
          "output_type": "execute_result",
          "data": {
            "text/plain": [
              "[6252.698822856153, 5607.13171410098, 6939.700476685908, 8903.90480410402]"
            ]
          },
          "metadata": {},
          "execution_count": 15
        }
      ]
    },
    {
      "cell_type": "markdown",
      "source": [
        "**Q 3.3**"
      ],
      "metadata": {
        "id": "4GlFO6JGNLCc"
      }
    },
    {
      "cell_type": "markdown",
      "source": [
        "**EM1 (Average ARIMA and OLS)**"
      ],
      "metadata": {
        "id": "xB8gOkYFrGam"
      }
    },
    {
      "cell_type": "code",
      "source": [
        "yf3 = df.iloc[9:35,[5]] \n",
        "arr = yf3['death_jhu_incidence'].to_numpy()\n",
        "history = arr.tolist()\n",
        "\n",
        "pred_results = []\n",
        "y_super = []\n",
        "\n",
        "Y = df.iloc[9:(35),[5]]\n",
        "\n",
        "for t in range(4): \n",
        "\n",
        "  # OLS\n",
        "  X = df.iloc[9:(35+t),[3,4,6]]\n",
        "  X = sm.add_constant(X)\n",
        "  model = sm.OLS(Y, X)\n",
        "  results = model.fit()\n",
        "  pred_x = df.iloc[(35+t):(36+t),[3,4,6]] \n",
        "  pred_x = sm.add_constant(pred_x)\n",
        "  pred_x.insert(0, \"const\", [1], True)\n",
        "  ypred = results.predict(pred_x) \n",
        "  y_sol1 = ypred.iloc[0] # OLS Solution\n",
        "\n",
        "  # ARIMA\n",
        "  model2 = ARIMA(history, order=(2,0,2))\n",
        "  model_fit = model2.fit()\n",
        "  output = model_fit.forecast()\n",
        "  yhat = output[0]\n",
        "  y_sol2= yhat # ARIMA solution\n",
        "\n",
        "  y_sol = (y_sol1+ y_sol2)/(2) # Average solution\n",
        "\n",
        "  # Append y_sol to both ARIMA and OLS\n",
        "  Y.loc[35+t] = [y_sol]\n",
        "  history.append(y_sol)\n",
        "\n",
        "  y_super.append(y_sol) # Update the final solution as well\n"
      ],
      "metadata": {
        "id": "BuSnljlfSsw2",
        "colab": {
          "base_uri": "https://localhost:8080/"
        },
        "outputId": "be79ce4f-0fb2-4001-8382-56b67009265c"
      },
      "execution_count": 70,
      "outputs": [
        {
          "output_type": "stream",
          "name": "stderr",
          "text": [
            "/usr/local/lib/python3.7/dist-packages/statsmodels/base/model.py:568: ConvergenceWarning: Maximum Likelihood optimization failed to converge. Check mle_retvals\n",
            "  ConvergenceWarning)\n",
            "/usr/local/lib/python3.7/dist-packages/statsmodels/base/model.py:568: ConvergenceWarning: Maximum Likelihood optimization failed to converge. Check mle_retvals\n",
            "  ConvergenceWarning)\n",
            "/usr/local/lib/python3.7/dist-packages/statsmodels/base/model.py:568: ConvergenceWarning: Maximum Likelihood optimization failed to converge. Check mle_retvals\n",
            "  ConvergenceWarning)\n"
          ]
        }
      ]
    },
    {
      "cell_type": "code",
      "source": [
        "# Check answer\n",
        "y_super"
      ],
      "metadata": {
        "colab": {
          "base_uri": "https://localhost:8080/"
        },
        "id": "-07sgrBvr839",
        "outputId": "98ca15de-0fdb-4d00-b123-6bf8c43a60ef"
      },
      "execution_count": 71,
      "outputs": [
        {
          "output_type": "execute_result",
          "data": {
            "text/plain": [
              "[6417.6832251375, 6277.628085943463, 6816.8124997338, 8163.648415663256]"
            ]
          },
          "metadata": {},
          "execution_count": 71
        }
      ]
    },
    {
      "cell_type": "markdown",
      "source": [
        "**RMSE EM1 = 1722.7403416342659**"
      ],
      "metadata": {
        "id": "MX9CTkOJsIsn"
      }
    },
    {
      "cell_type": "code",
      "source": [
        "pred = np.array(y_super)\n",
        "test = np.array(test)\n",
        "np.sqrt(np.mean((pred-test)**2))"
      ],
      "metadata": {
        "colab": {
          "base_uri": "https://localhost:8080/"
        },
        "id": "uVJHjG0WS0yG",
        "outputId": "60446310-8559-439f-dfc2-1f0132b128a6"
      },
      "execution_count": 72,
      "outputs": [
        {
          "output_type": "execute_result",
          "data": {
            "text/plain": [
              "1722.7403416342659"
            ]
          },
          "metadata": {},
          "execution_count": 72
        }
      ]
    },
    {
      "cell_type": "markdown",
      "source": [
        "**EM2 (Weighted average ARIMA and OLS)**"
      ],
      "metadata": {
        "id": "cfP-u1R9sPE0"
      }
    },
    {
      "cell_type": "code",
      "source": [
        "def RMSE_ols(t):\n",
        "  X = df.iloc[9:(35+t+1),[3,4,6]]\n",
        "  X = sm.add_constant(X)\n",
        "  forecast1 = results.predict(X)\n",
        "  err = 0\n",
        "\n",
        "  for j in range(9,(35+t+1)):\n",
        "    err += (forecast1[j]- Y['death_jhu_incidence'][j])**2\n",
        "\n",
        "  return np.sqrt(err/((35+t+1)-9))"
      ],
      "metadata": {
        "id": "NvYjvW8h7PYk"
      },
      "execution_count": null,
      "outputs": []
    },
    {
      "cell_type": "code",
      "source": [
        "def RMSE_arima(t):\n",
        "\n",
        "  forecast = model_fit.predict(start=0, end=29)\n",
        "\n",
        "  forecast1 = np.array(forecast)[0:(26+t)]\n",
        "  history1 = np.array(history)[0:(26+t)]\n",
        "  return np.sqrt(np.mean((forecast1-history1)**2))"
      ],
      "metadata": {
        "id": "GuZvwuc298JL"
      },
      "execution_count": null,
      "outputs": []
    },
    {
      "cell_type": "code",
      "source": [
        "yf3 = df.iloc[9:35,[5]] \n",
        "arr = yf3['death_jhu_incidence'].to_numpy()\n",
        "history = arr.tolist()\n",
        "\n",
        "# initial rms of training set\n",
        "rms_ols = 2864.671904742172 # from training set.\n",
        "rms_arima = 1859.8348587481062 # from training set.\n",
        "\n",
        "\n",
        "pred_results = []\n",
        "y_super = []\n",
        "\n",
        "Y = df.iloc[9:(35),[5]]\n",
        "\n",
        "for t in range(4): \n",
        "\n",
        "  # OLS\n",
        "  X = df.iloc[9:(35+t),[3,4,6]]\n",
        "  X = sm.add_constant(X)\n",
        "  model = sm.OLS(Y, X)\n",
        "  results = model.fit()\n",
        "  pred_x = df.iloc[(35+t):(36+t),[3,4,6]] \n",
        "  pred_x = sm.add_constant(pred_x)\n",
        "  pred_x.insert(0, \"const\", [1], True)\n",
        "  ypred = results.predict(pred_x)\n",
        "  \n",
        "  y_sol1 = ypred.iloc[0] \n",
        "  rms1 = (1/rms_ols)\n",
        "\n",
        "  # ARIMA\n",
        "  model2 = ARIMA(history, order=(2,0,2))\n",
        "  model_fit = model2.fit()\n",
        "  output = model_fit.forecast()\n",
        "  yhat = output[0]\n",
        "  y_sol2= yhat\n",
        "  rms2 = (1/rms_arima)\n",
        "\n",
        "  y_sol = (rms1*y_sol1+ rms2*y_sol2)/(rms2+rms1) # find the weighted solution\n",
        "\n",
        "  # Updat the training set with the predicted solution.\n",
        "  Y.loc[35+t] = [y_sol]\n",
        "  history.append(y_sol)\n",
        "\n",
        "  # Append the solution as well\n",
        "  y_super.append(y_sol)\n",
        "\n",
        "  # Find the new RMSEs (for the new weights)\n",
        "\n",
        "  #rms_ols new\n",
        "  X = df.iloc[9:(35+t+1),[3,4,6]]\n",
        "  X = sm.add_constant(X)\n",
        "  forecast1 = results.predict(X)\n",
        "  err = 0\n",
        "\n",
        "  for j in range(9,(35+t+1)):\n",
        "    err += (forecast1[j]- Y['death_jhu_incidence'][j])**2\n",
        "\n",
        "  rms_ols = np.sqrt(err/((35+t+1)-9))\n",
        "\n",
        "  #rms_arima new\n",
        "  forecast = model_fit.predict(start=0, end=29)\n",
        "  forecast2 = np.array(forecast)[0:(26+t+1)]\n",
        "  history1 = np.array(history)[0:(26+t+1)]\n",
        "  rms_arima= np.sqrt(np.mean((forecast2-history1)**2))\n",
        "\n",
        "  print(rms_ols)\n",
        "  print(rms_arima)\n"
      ],
      "metadata": {
        "id": "sLaPMQaDNMay"
      },
      "execution_count": null,
      "outputs": []
    },
    {
      "cell_type": "code",
      "source": [
        "y_super"
      ],
      "metadata": {
        "colab": {
          "base_uri": "https://localhost:8080/"
        },
        "id": "MFdBpTupkcFF",
        "outputId": "f9253200-9b0f-40fb-a28d-968d52cff30f"
      },
      "execution_count": 77,
      "outputs": [
        {
          "output_type": "execute_result",
          "data": {
            "text/plain": [
              "[6452.773118690961, 6347.147538303799, 6907.369338613636, 8137.051666489198]"
            ]
          },
          "metadata": {},
          "execution_count": 77
        }
      ]
    },
    {
      "cell_type": "code",
      "source": [
        "pred = np.array(y_super)\n",
        "test = np.array(test)\n",
        "np.sqrt(np.mean((pred-test)**2))"
      ],
      "metadata": {
        "colab": {
          "base_uri": "https://localhost:8080/"
        },
        "id": "MujGbbmeSmjT",
        "outputId": "93c1e708-6601-4f6f-86a2-a00d7122a77e"
      },
      "execution_count": 78,
      "outputs": [
        {
          "output_type": "execute_result",
          "data": {
            "text/plain": [
              "1742.8553618689239"
            ]
          },
          "metadata": {},
          "execution_count": 78
        }
      ]
    },
    {
      "cell_type": "markdown",
      "source": [
        "**RMSE EM1 = 1722.7403416342659**"
      ],
      "metadata": {
        "id": "WWymUJ-61_Hh"
      }
    },
    {
      "cell_type": "markdown",
      "source": [
        "**Final results**\n",
        "\n",
        "*   RMSE 1 = 1984.330085840417\n",
        "*   RMSE 2 = 1992.0691496084992\n",
        "*   RMSE 3 = 1722.7403416342659\n",
        "*   RMSE 4 = 1742.8553618689239\n",
        "\n",
        "\n",
        "\n",
        "\n",
        " \n",
        "\n"
      ],
      "metadata": {
        "id": "vwR3arUwvhXe"
      }
    }
  ]
}